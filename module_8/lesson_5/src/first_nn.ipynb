{
  "nbformat": 4,
  "nbformat_minor": 0,
  "metadata": {
    "colab": {
      "provenance": []
    },
    "kernelspec": {
      "name": "python3",
      "display_name": "Python 3"
    },
    "language_info": {
      "name": "python"
    }
  },
  "cells": [
    {
      "cell_type": "markdown",
      "metadata": {
        "id": "iYOqeUa8WByt"
      },
      "source": [
        "# ML #4 \"Создание и обучение первой нейронной сети.\""
      ]
    },
    {
      "cell_type": "markdown",
      "source": [],
      "metadata": {
        "id": "d-NGq94OQmTr"
      }
    },
    {
      "cell_type": "markdown",
      "metadata": {
        "id": "eDFMp_F2WNAB"
      },
      "source": [
        "1) Подключение библиотек"
      ]
    },
    {
      "cell_type": "code",
      "execution_count": 2,
      "metadata": {
        "id": "dFXgY76XWgG-",
        "colab": {
          "base_uri": "https://localhost:8080/"
        },
        "outputId": "3a38d049-30ca-4a46-86a3-4467ad3f4597"
      },
      "outputs": [
        {
          "output_type": "stream",
          "name": "stdout",
          "text": [
            "TensorFlow version: 2.13.0\n"
          ]
        }
      ],
      "source": [
        "import matplotlib.pyplot as plt\n",
        "import numpy as np\n",
        "import PIL\n",
        "import tensorflow as tf\n",
        "import random\n",
        "\n",
        "from tensorflow import keras\n",
        "from keras import layers\n",
        "from keras.models import Sequential\n",
        "import pathlib\n",
        "from typing import List, Tuple, Union\n",
        "\n",
        "print(\"TensorFlow version:\", tf.__version__)"
      ]
    },
    {
      "cell_type": "markdown",
      "metadata": {
        "id": "x7QhwYM9Xk-p"
      },
      "source": [
        "2) Загрузка и извлечение датасета\n"
      ]
    },
    {
      "cell_type": "code",
      "execution_count": 3,
      "metadata": {
        "id": "iClcMrUeXxlk"
      },
      "outputs": [],
      "source": [
        "dataset_url: str = \"https://storage.googleapis.com/download.tensorflow.org/example_images/flower_photos.tgz\"\n",
        "dataset_dir: pathlib.Path = pathlib.Path(tf.keras.utils.get_file('flower_photos.tar', origin=dataset_url, extract=True)).with_suffix('')"
      ]
    },
    {
      "cell_type": "markdown",
      "metadata": {
        "id": "9SkSH0x1gWoB"
      },
      "source": [
        "3) Проверка датасета"
      ]
    },
    {
      "cell_type": "code",
      "execution_count": 4,
      "metadata": {
        "colab": {
          "base_uri": "https://localhost:8080/"
        },
        "id": "FL0TZf-NgZdE",
        "outputId": "413cd001-8129-49f9-9ed4-87e02490b6e9"
      },
      "outputs": [
        {
          "output_type": "stream",
          "name": "stdout",
          "text": [
            "3670\n"
          ]
        }
      ],
      "source": [
        "image_count: int = len(list(dataset_dir.glob(\"*/*.jpg\")))\n",
        "print(image_count)"
      ]
    },
    {
      "cell_type": "markdown",
      "metadata": {
        "id": "mlkeLJADgvph"
      },
      "source": [
        "4) Подготовка данных и модели"
      ]
    },
    {
      "cell_type": "code",
      "execution_count": 5,
      "metadata": {
        "colab": {
          "base_uri": "https://localhost:8080/"
        },
        "id": "k3gTsYB_gz7S",
        "outputId": "c5813c1c-a672-4a9d-e643-97cb8c3506cd"
      },
      "outputs": [
        {
          "output_type": "stream",
          "name": "stdout",
          "text": [
            "Found 3670 files belonging to 5 classes.\n",
            "Using 2936 files for training.\n",
            "Found 3670 files belonging to 5 classes.\n",
            "Using 734 files for validation.\n"
          ]
        }
      ],
      "source": [
        "batch_size = 32\n",
        "img_widht = 180\n",
        "img_height = 180\n",
        "random_seed = random.randint(0, 9999)\n",
        "\n",
        "def create_image_dataset(\n",
        "    dataset_dir: pathlib.Path,\n",
        "    subset: str,\n",
        "    image_size: Tuple[int, int],\n",
        "    batch_size: int\n",
        ") -> tf.data.Dataset:\n",
        "  return tf.keras.utils.image_dataset_from_directory(\n",
        "      dataset_dir,\n",
        "      validation_split=0.2,\n",
        "      subset=subset,\n",
        "      seed=random_seed,\n",
        "      image_size=image_size,\n",
        "      batch_size=batch_size\n",
        "  )\n",
        "\n",
        "train_ds_original: tf.data.Dataset = create_image_dataset(dataset_dir, 'training', (img_height, img_widht), batch_size)\n",
        "val_ds_original: tf.data.Dataset = create_image_dataset(dataset_dir, 'validation', (img_height, img_widht), batch_size)"
      ]
    },
    {
      "cell_type": "markdown",
      "metadata": {
        "id": "n2oA5OyEkTh6"
      },
      "source": [
        "5) Подготовака данных с кэшированием и предварительной загрузкой"
      ]
    },
    {
      "cell_type": "code",
      "execution_count": 6,
      "metadata": {
        "colab": {
          "base_uri": "https://localhost:8080/"
        },
        "id": "vrhCrblBkjDy",
        "outputId": "f0631c25-486c-4823-f330-83058fc61570"
      },
      "outputs": [
        {
          "output_type": "stream",
          "name": "stdout",
          "text": [
            "Class names: ['daisy', 'dandelion', 'roses', 'sunflowers', 'tulips']\n"
          ]
        }
      ],
      "source": [
        "class_names: list[str] = train_ds_original.class_names\n",
        "print(f'Class names: {class_names}')\n",
        "\n",
        "AUTOTUNE: int = tf.data.AUTOTUNE\n",
        "train_ds = train_ds_original.cache().shuffle(1000).prefetch(buffer_size=AUTOTUNE)\n",
        "val_ds = val_ds_original.cache().prefetch(buffer_size=AUTOTUNE)"
      ]
    },
    {
      "cell_type": "markdown",
      "metadata": {
        "id": "wOvo6aoInP6l"
      },
      "source": [
        "6) Создание модели нейронной сети"
      ]
    },
    {
      "cell_type": "code",
      "execution_count": 9,
      "metadata": {
        "id": "CYnrMzYmnUJk"
      },
      "outputs": [],
      "source": [
        "num_classes: int = len(class_names)\n",
        "model: keras.Sequential = Sequential([\n",
        "    tf.keras.layers.experimental.preprocessing.Rescaling(1./255, input_shape=(img_height, img_widht, 3)),\n",
        "    layers.Conv2D(16, 3, padding=\"same\", activation='relu'),\n",
        "    layers.MaxPooling2D(),\n",
        "    layers.Conv2D(32, 3, padding=\"same\", activation='relu'),\n",
        "    layers.MaxPooling2D(),\n",
        "    layers.Conv2D(64, 3, padding=\"same\", activation='relu'),\n",
        "    layers.Flatten(),\n",
        "    layers.Dense(128, activation='relu'),\n",
        "    layers.Dense(num_classes)\n",
        "])"
      ]
    },
    {
      "cell_type": "markdown",
      "metadata": {
        "id": "Y53qUwaUpOrV"
      },
      "source": [
        "7) Компиляция модели"
      ]
    },
    {
      "cell_type": "code",
      "execution_count": 10,
      "metadata": {
        "id": "PZ-p9lLupUlp"
      },
      "outputs": [],
      "source": [
        "model.compile(\n",
        "    optimizer='adam',\n",
        "    loss=tf.keras.losses.SparseCategoricalCrossentropy(from_logits=True),\n",
        "    metrics=['accuracy']\n",
        ")"
      ]
    },
    {
      "cell_type": "markdown",
      "metadata": {
        "id": "0sIfk_uKp5z4"
      },
      "source": [
        "8) Обучение модели"
      ]
    },
    {
      "cell_type": "code",
      "execution_count": 11,
      "metadata": {
        "colab": {
          "base_uri": "https://localhost:8080/"
        },
        "id": "JWFoHpirp-0N",
        "outputId": "56c1a6b8-c80a-47a5-e133-efcd460b6762"
      },
      "outputs": [
        {
          "output_type": "stream",
          "name": "stdout",
          "text": [
            "Epoch 1/10\n",
            "92/92 [==============================] - 125s 1s/step - loss: 1.5339 - accuracy: 0.4315 - val_loss: 1.0741 - val_accuracy: 0.5858\n",
            "Epoch 2/10\n",
            "92/92 [==============================] - 120s 1s/step - loss: 0.9979 - accuracy: 0.6035 - val_loss: 0.9929 - val_accuracy: 0.6090\n",
            "Epoch 3/10\n",
            "92/92 [==============================] - 115s 1s/step - loss: 0.8218 - accuracy: 0.6703 - val_loss: 1.1628 - val_accuracy: 0.5381\n",
            "Epoch 4/10\n",
            "92/92 [==============================] - 117s 1s/step - loss: 0.5663 - accuracy: 0.7909 - val_loss: 1.0435 - val_accuracy: 0.6144\n",
            "Epoch 5/10\n",
            "92/92 [==============================] - 118s 1s/step - loss: 0.2924 - accuracy: 0.8971 - val_loss: 1.4281 - val_accuracy: 0.6076\n",
            "Epoch 6/10\n",
            "92/92 [==============================] - 122s 1s/step - loss: 0.1576 - accuracy: 0.9503 - val_loss: 1.4750 - val_accuracy: 0.6158\n",
            "Epoch 7/10\n",
            "92/92 [==============================] - 116s 1s/step - loss: 0.0857 - accuracy: 0.9782 - val_loss: 1.7261 - val_accuracy: 0.5872\n",
            "Epoch 8/10\n",
            "92/92 [==============================] - 115s 1s/step - loss: 0.0703 - accuracy: 0.9813 - val_loss: 1.7955 - val_accuracy: 0.6076\n",
            "Epoch 9/10\n",
            "92/92 [==============================] - 115s 1s/step - loss: 0.0206 - accuracy: 0.9939 - val_loss: 2.1751 - val_accuracy: 0.5899\n",
            "Epoch 10/10\n",
            "92/92 [==============================] - 116s 1s/step - loss: 0.0163 - accuracy: 0.9976 - val_loss: 2.3206 - val_accuracy: 0.6104\n"
          ]
        }
      ],
      "source": [
        "epochs: int = 10\n",
        "history: keras.callbacks.History = model.fit(\n",
        "    train_ds,\n",
        "    validation_data=val_ds,\n",
        "    epochs=epochs\n",
        ")"
      ]
    },
    {
      "cell_type": "markdown",
      "metadata": {
        "id": "EXen21O1qb0q"
      },
      "source": [
        "9) Получение истории обучения модели"
      ]
    },
    {
      "cell_type": "code",
      "execution_count": 12,
      "metadata": {
        "id": "EagoXEdbqit1",
        "colab": {
          "base_uri": "https://localhost:8080/"
        },
        "outputId": "1e3e1b4d-910e-41b2-9ef2-569e42cb7fa3"
      },
      "outputs": [
        {
          "output_type": "stream",
          "name": "stdout",
          "text": [
            "{'loss': [1.5338674783706665, 0.9979201555252075, 0.8218234181404114, 0.5662547945976257, 0.2924041450023651, 0.1575804203748703, 0.08568694442510605, 0.0702550932765007, 0.020648855715990067, 0.016252007335424423], 'accuracy': [0.43153950572013855, 0.6035422086715698, 0.6702997088432312, 0.7908719182014465, 0.8971389532089233, 0.9502725005149841, 0.9782016277313232, 0.9812670350074768, 0.9938691854476929, 0.9976158142089844], 'val_loss': [1.0740525722503662, 0.9929144978523254, 1.1628477573394775, 1.0435441732406616, 1.4280643463134766, 1.4749646186828613, 1.726056456565857, 1.7955435514450073, 2.17507266998291, 2.320639133453369], 'val_accuracy': [0.5858310461044312, 0.608991801738739, 0.5381471514701843, 0.6144413948059082, 0.6076294183731079, 0.6158038377761841, 0.587193489074707, 0.6076294183731079, 0.5899182558059692, 0.6103542447090149]}\n"
          ]
        }
      ],
      "source": [
        "print(history.history)"
      ]
    },
    {
      "cell_type": "markdown",
      "metadata": {
        "id": "BiNTiGZRqqEU"
      },
      "source": [
        "10) Визуализация данных"
      ]
    },
    {
      "cell_type": "code",
      "execution_count": 13,
      "metadata": {
        "id": "6p_qS-YFqtVp",
        "colab": {
          "base_uri": "https://localhost:8080/",
          "height": 868
        },
        "outputId": "4d793fcc-633b-42d4-9cb2-55dc118e783d"
      },
      "outputs": [
        {
          "output_type": "execute_result",
          "data": {
            "text/plain": [
              "<function matplotlib.pyplot.show(close=None, block=None)>"
            ],
            "text/html": [
              "<div style=\"max-width:800px; border: 1px solid var(--colab-border-color);\"><style>\n",
              "      pre.function-repr-contents {\n",
              "        overflow-x: auto;\n",
              "        padding: 8px 12px;\n",
              "        max-height: 500px;\n",
              "      }\n",
              "\n",
              "      pre.function-repr-contents.function-repr-contents-collapsed {\n",
              "        cursor: pointer;\n",
              "        max-height: 100px;\n",
              "      }\n",
              "    </style>\n",
              "    <pre style=\"white-space: initial; background:\n",
              "         var(--colab-secondary-surface-color); padding: 8px 12px;\n",
              "         border-bottom: 1px solid var(--colab-border-color);\"><b>matplotlib.pyplot.show</b><br/>def show(*args, **kwargs)</pre><pre class=\"function-repr-contents function-repr-contents-collapsed\" style=\"\"><a class=\"filepath\" style=\"display:none\" href=\"#\">/usr/local/lib/python3.10/dist-packages/matplotlib/pyplot.py</a>Display all open figures.\n",
              "\n",
              "Parameters\n",
              "----------\n",
              "block : bool, optional\n",
              "    Whether to wait for all figures to be closed before returning.\n",
              "\n",
              "    If `True` block and run the GUI main loop until all figure windows\n",
              "    are closed.\n",
              "\n",
              "    If `False` ensure that all figure windows are displayed and return\n",
              "    immediately.  In this case, you are responsible for ensuring\n",
              "    that the event loop is running to have responsive figures.\n",
              "\n",
              "    Defaults to True in non-interactive mode and to False in interactive\n",
              "    mode (see `.pyplot.isinteractive`).\n",
              "\n",
              "See Also\n",
              "--------\n",
              "ion : Enable interactive mode, which shows / updates the figure after\n",
              "      every plotting command, so that calling ``show()`` is not necessary.\n",
              "ioff : Disable interactive mode.\n",
              "savefig : Save the figure to an image file instead of showing it on screen.\n",
              "\n",
              "Notes\n",
              "-----\n",
              "**Saving figures to file and showing a window at the same time**\n",
              "\n",
              "If you want an image file as well as a user interface window, use\n",
              "`.pyplot.savefig` before `.pyplot.show`. At the end of (a blocking)\n",
              "``show()`` the figure is closed and thus unregistered from pyplot. Calling\n",
              "`.pyplot.savefig` afterwards would save a new and thus empty figure. This\n",
              "limitation of command order does not apply if the show is non-blocking or\n",
              "if you keep a reference to the figure and use `.Figure.savefig`.\n",
              "\n",
              "**Auto-show in jupyter notebooks**\n",
              "\n",
              "The jupyter backends (activated via ``%matplotlib inline``,\n",
              "``%matplotlib notebook``, or ``%matplotlib widget``), call ``show()`` at\n",
              "the end of every cell by default. Thus, you usually don&#x27;t have to call it\n",
              "explicitly there.</pre>\n",
              "      <script>\n",
              "      if (google.colab.kernel.accessAllowed && google.colab.files && google.colab.files.view) {\n",
              "        for (const element of document.querySelectorAll('.filepath')) {\n",
              "          element.style.display = 'block'\n",
              "          element.onclick = (event) => {\n",
              "            event.preventDefault();\n",
              "            event.stopPropagation();\n",
              "            google.colab.files.view(element.textContent, 401);\n",
              "          };\n",
              "        }\n",
              "      }\n",
              "      for (const element of document.querySelectorAll('.function-repr-contents')) {\n",
              "        element.onclick = (event) => {\n",
              "          event.preventDefault();\n",
              "          event.stopPropagation();\n",
              "          element.classList.toggle('function-repr-contents-collapsed');\n",
              "        };\n",
              "      }\n",
              "      </script>\n",
              "      </div>"
            ]
          },
          "metadata": {},
          "execution_count": 13
        },
        {
          "output_type": "display_data",
          "data": {
            "text/plain": [
              "<Figure size 800x800 with 2 Axes>"
            ],
            "image/png": "[encoded data removed]"
          },
          "metadata": {}
        }
      ],
      "source": [
        "acc: list[float] = history.history['accuracy']\n",
        "val_acc: list[float] = history.history['val_accuracy']\n",
        "loss: list[float] = history.history['loss']\n",
        "val_loss: list[float] = history.history['val_loss']\n",
        "epochs_range: range = range(epochs)\n",
        "\n",
        "plt.figure(figsize=(8,8))\n",
        "plt.subplot(1, 2, 1)\n",
        "plt.plot(epochs_range, acc, label='Training Accuracy')\n",
        "plt.plot(epochs_range, val_acc, label='Validation Accuracy')\n",
        "plt.legend(loc='lower right')\n",
        "plt.title('Training and Validation Accuracy')\n",
        "\n",
        "plt.subplot(1, 2, 2)\n",
        "plt.plot(epochs_range, loss, label='Training Loss')\n",
        "plt.plot(epochs_range, val_loss, label='Validation Loss')\n",
        "plt.legend(loc='lower left')\n",
        "plt.title('Training and Validation Loss')\n",
        "plt.show"
      ]
    },
    {
      "cell_type": "markdown",
      "source": [
        "# ML #5 Дообучение нейронной сети"
      ],
      "metadata": {
        "id": "v4851Y0WwEd1"
      }
    },
    {
      "cell_type": "markdown",
      "source": [
        "1) Дообучение модели\n"
      ],
      "metadata": {
        "id": "FrlJjiJEyyjR"
      }
    },
    {
      "cell_type": "code",
      "source": [
        "epochs: int = 20\n",
        "history: keras.callbacks.History = model.fit(\n",
        "    train_ds,\n",
        "    validation_data = val_ds,\n",
        "    epochs=epochs\n",
        ")"
      ],
      "metadata": {
        "id": "R3uZhHiXy4Tc",
        "colab": {
          "base_uri": "https://localhost:8080/"
        },
        "outputId": "5056414f-d82c-4b74-db39-9d5d4eef95f8"
      },
      "execution_count": 15,
      "outputs": [
        {
          "output_type": "stream",
          "name": "stdout",
          "text": [
            "Epoch 1/20\n",
            "92/92 [==============================] - 141s 2s/step - loss: 0.0043 - accuracy: 0.9993 - val_loss: 2.4303 - val_accuracy: 0.6035\n",
            "Epoch 2/20\n",
            "92/92 [==============================] - 114s 1s/step - loss: 0.0025 - accuracy: 0.9997 - val_loss: 2.5948 - val_accuracy: 0.6076\n",
            "Epoch 3/20\n",
            "92/92 [==============================] - 113s 1s/step - loss: 0.0032 - accuracy: 0.9997 - val_loss: 2.4747 - val_accuracy: 0.6131\n",
            "Epoch 4/20\n",
            "92/92 [==============================] - 113s 1s/step - loss: 0.0021 - accuracy: 0.9997 - val_loss: 2.5569 - val_accuracy: 0.6063\n",
            "Epoch 5/20\n",
            "92/92 [==============================] - 117s 1s/step - loss: 0.0051 - accuracy: 0.9993 - val_loss: 2.4299 - val_accuracy: 0.6076\n",
            "Epoch 6/20\n",
            "92/92 [==============================] - 114s 1s/step - loss: 0.0033 - accuracy: 0.9993 - val_loss: 2.5319 - val_accuracy: 0.6035\n",
            "Epoch 7/20\n",
            "92/92 [==============================] - 114s 1s/step - loss: 0.0021 - accuracy: 0.9997 - val_loss: 2.5437 - val_accuracy: 0.6144\n",
            "Epoch 8/20\n",
            "92/92 [==============================] - 118s 1s/step - loss: 0.0018 - accuracy: 0.9997 - val_loss: 2.6062 - val_accuracy: 0.6035\n",
            "Epoch 9/20\n",
            "92/92 [==============================] - 113s 1s/step - loss: 0.0033 - accuracy: 0.9993 - val_loss: 2.4258 - val_accuracy: 0.6131\n",
            "Epoch 10/20\n",
            "92/92 [==============================] - 113s 1s/step - loss: 0.0027 - accuracy: 0.9993 - val_loss: 2.5104 - val_accuracy: 0.6131\n",
            "Epoch 11/20\n",
            "92/92 [==============================] - 115s 1s/step - loss: 0.0015 - accuracy: 0.9997 - val_loss: 2.5786 - val_accuracy: 0.6090\n",
            "Epoch 12/20\n",
            "92/92 [==============================] - 114s 1s/step - loss: 0.0021 - accuracy: 0.9993 - val_loss: 2.6091 - val_accuracy: 0.6131\n",
            "Epoch 13/20\n",
            "92/92 [==============================] - 115s 1s/step - loss: 0.0013 - accuracy: 0.9997 - val_loss: 2.6825 - val_accuracy: 0.6049\n",
            "Epoch 14/20\n",
            "92/92 [==============================] - 113s 1s/step - loss: 0.0027 - accuracy: 0.9993 - val_loss: 2.6017 - val_accuracy: 0.6022\n",
            "Epoch 15/20\n",
            "92/92 [==============================] - 113s 1s/step - loss: 0.0013 - accuracy: 0.9997 - val_loss: 2.6196 - val_accuracy: 0.6076\n",
            "Epoch 16/20\n",
            "92/92 [==============================] - 117s 1s/step - loss: 0.0020 - accuracy: 0.9993 - val_loss: 2.6212 - val_accuracy: 0.6090\n",
            "Epoch 17/20\n",
            "92/92 [==============================] - 122s 1s/step - loss: 9.1088e-04 - accuracy: 0.9997 - val_loss: 2.6475 - val_accuracy: 0.6035\n",
            "Epoch 18/20\n",
            "92/92 [==============================] - 125s 1s/step - loss: 0.0022 - accuracy: 0.9993 - val_loss: 2.6003 - val_accuracy: 0.6035\n",
            "Epoch 19/20\n",
            "92/92 [==============================] - 122s 1s/step - loss: 0.0010 - accuracy: 0.9997 - val_loss: 2.7346 - val_accuracy: 0.6144\n",
            "Epoch 20/20\n",
            "92/92 [==============================] - 114s 1s/step - loss: 0.0012 - accuracy: 0.9997 - val_loss: 2.7393 - val_accuracy: 0.6104\n"
          ]
        }
      ]
    },
    {
      "cell_type": "markdown",
      "source": [
        "2) Визуализация результатов обучения нейронной сети"
      ],
      "metadata": {
        "id": "Bnai9HHuBr7v"
      }
    },
    {
      "cell_type": "code",
      "source": [
        "acc: list[float] = history.history['accuracy']\n",
        "val_acc: list[float] = history.history['val_accuracy']\n",
        "loss: list[float] = history.history['loss']\n",
        "val_loss: list[float] = history.history['val_loss']\n",
        "epochs_range: list[int] = range(epochs)\n",
        "\n",
        "plt.figure(figsize=(8,8))\n",
        "plt.subplot(1, 2, 1)\n",
        "plt.plot(epochs_range, acc, label='Training Accuracy')\n",
        "plt.plot(epochs_range, val_acc, label='Validation Accuracy')\n",
        "plt.legend(loc='lower left')\n",
        "plt.title('Training and Validation Accuracy')\n",
        "\n",
        "plt.subplot(1, 2, 2)\n",
        "plt.plot(epochs_range, loss, label='Training loss 2')\n",
        "plt.plot(epochs_range, val_loss, label='Validation loss 2')\n",
        "plt.legend(loc='lower right')\n",
        "plt.title('Training and Validation loss 2')\n",
        "plt.show"
      ],
      "metadata": {
        "id": "ISGOOCf_zy8c",
        "colab": {
          "base_uri": "https://localhost:8080/",
          "height": 868
        },
        "outputId": "7c23691d-f82b-40d2-f12e-40268bd7a069"
      },
      "execution_count": 16,
      "outputs": [
        {
          "output_type": "execute_result",
          "data": {
            "text/plain": [
              "<function matplotlib.pyplot.show(close=None, block=None)>"
            ],
            "text/html": [
              "<div style=\"max-width:800px; border: 1px solid var(--colab-border-color);\"><style>\n",
              "      pre.function-repr-contents {\n",
              "        overflow-x: auto;\n",
              "        padding: 8px 12px;\n",
              "        max-height: 500px;\n",
              "      }\n",
              "\n",
              "      pre.function-repr-contents.function-repr-contents-collapsed {\n",
              "        cursor: pointer;\n",
              "        max-height: 100px;\n",
              "      }\n",
              "    </style>\n",
              "    <pre style=\"white-space: initial; background:\n",
              "         var(--colab-secondary-surface-color); padding: 8px 12px;\n",
              "         border-bottom: 1px solid var(--colab-border-color);\"><b>matplotlib.pyplot.show</b><br/>def show(*args, **kwargs)</pre><pre class=\"function-repr-contents function-repr-contents-collapsed\" style=\"\"><a class=\"filepath\" style=\"display:none\" href=\"#\">/usr/local/lib/python3.10/dist-packages/matplotlib/pyplot.py</a>Display all open figures.\n",
              "\n",
              "Parameters\n",
              "----------\n",
              "block : bool, optional\n",
              "    Whether to wait for all figures to be closed before returning.\n",
              "\n",
              "    If `True` block and run the GUI main loop until all figure windows\n",
              "    are closed.\n",
              "\n",
              "    If `False` ensure that all figure windows are displayed and return\n",
              "    immediately.  In this case, you are responsible for ensuring\n",
              "    that the event loop is running to have responsive figures.\n",
              "\n",
              "    Defaults to True in non-interactive mode and to False in interactive\n",
              "    mode (see `.pyplot.isinteractive`).\n",
              "\n",
              "See Also\n",
              "--------\n",
              "ion : Enable interactive mode, which shows / updates the figure after\n",
              "      every plotting command, so that calling ``show()`` is not necessary.\n",
              "ioff : Disable interactive mode.\n",
              "savefig : Save the figure to an image file instead of showing it on screen.\n",
              "\n",
              "Notes\n",
              "-----\n",
              "**Saving figures to file and showing a window at the same time**\n",
              "\n",
              "If you want an image file as well as a user interface window, use\n",
              "`.pyplot.savefig` before `.pyplot.show`. At the end of (a blocking)\n",
              "``show()`` the figure is closed and thus unregistered from pyplot. Calling\n",
              "`.pyplot.savefig` afterwards would save a new and thus empty figure. This\n",
              "limitation of command order does not apply if the show is non-blocking or\n",
              "if you keep a reference to the figure and use `.Figure.savefig`.\n",
              "\n",
              "**Auto-show in jupyter notebooks**\n",
              "\n",
              "The jupyter backends (activated via ``%matplotlib inline``,\n",
              "``%matplotlib notebook``, or ``%matplotlib widget``), call ``show()`` at\n",
              "the end of every cell by default. Thus, you usually don&#x27;t have to call it\n",
              "explicitly there.</pre>\n",
              "      <script>\n",
              "      if (google.colab.kernel.accessAllowed && google.colab.files && google.colab.files.view) {\n",
              "        for (const element of document.querySelectorAll('.filepath')) {\n",
              "          element.style.display = 'block'\n",
              "          element.onclick = (event) => {\n",
              "            event.preventDefault();\n",
              "            event.stopPropagation();\n",
              "            google.colab.files.view(element.textContent, 401);\n",
              "          };\n",
              "        }\n",
              "      }\n",
              "      for (const element of document.querySelectorAll('.function-repr-contents')) {\n",
              "        element.onclick = (event) => {\n",
              "          event.preventDefault();\n",
              "          event.stopPropagation();\n",
              "          element.classList.toggle('function-repr-contents-collapsed');\n",
              "        };\n",
              "      }\n",
              "      </script>\n",
              "      </div>"
            ]
          },
          "metadata": {},
          "execution_count": 16
        },
        {
          "output_type": "display_data",
          "data": {
            "text/plain": [
              "<Figure size 800x800 with 2 Axes>"
            ],
            "image/png": "[encoded data removed]"
          },
          "metadata": {}
        }
      ]
    },
    {
      "cell_type": "markdown",
      "source": [
        "3) Инференс модели"
      ],
      "metadata": {
        "id": "C3lLczj34nx_"
      }
    },
    {
      "cell_type": "code",
      "source": [
        "redrose_url: str = \"https://i.pinimg.com/736x/d6/5a/27/d65a2741117472739679b7304341d29c.jpg\"\n",
        "redrose_path: str = tf.keras.utils.get_file('Red_rose', origin=redrose_url)\n",
        "\n",
        "img: PIL.JpegImagePlugin.JpegImageFile = tf.keras.utils.load_img(\n",
        "    redrose_path, target_size=(img_height, img_widht)\n",
        ")\n",
        "img_array: np.ndarray = tf.keras.utils.img_to_array(img)\n",
        "img_array = tf.expand_dims(img_array, 0)\n",
        "predictions: np.ndarray = model.predict(img_array)\n",
        "score: tf.Tensor = tf.nn.softmax(predictions[0])\n",
        "\n",
        "print('На изображении  {} ({:.2f}% вероятность)'.format(\n",
        "    class_names[np.argmax(score)],\n",
        "    100 * np.max(score)\n",
        "))"
      ],
      "metadata": {
        "id": "sgg_-YGM4zqN",
        "colab": {
          "base_uri": "https://localhost:8080/"
        },
        "outputId": "63ce586e-341b-4401-9e3b-d68da480e3bb"
      },
      "execution_count": 20,
      "outputs": [
        {
          "output_type": "stream",
          "name": "stdout",
          "text": [
            "1/1 [==============================] - 0s 39ms/step\n",
            "На изображении  roses (100.00% вероятность)\n"
          ]
        }
      ]
    },
    {
      "cell_type": "code",
      "source": [
        "sunflower_url: str = \"https://i.pinimg.com/736x/4e/91/28/4e91285e75e2869e860936fc3f0e2ada.jpg\"\n",
        "sunflower_path: str = tf.keras.utils.get_file('Yellow_sunflower', origin=sunflower_url)\n",
        "\n",
        "img: PIL.JpegImagePlugin.JpegImageFile = tf.keras.utils.load_img(\n",
        "    sunflower_path, target_size=(img_height, img_widht)\n",
        ")\n",
        "img_array: np.ndarray = tf.keras.utils.img_to_array(img)\n",
        "img_array = tf.expand_dims(img_array, 0)\n",
        "predictions: np.ndarray = model.predict(img_array)\n",
        "score: tf.Tensor = tf.nn.softmax(predictions[0])\n",
        "\n",
        "print('На изображении  {} ({:.2f}% вероятность)'.format(\n",
        "    class_names[np.argmax(score)],\n",
        "    100 * np.max(score)\n",
        "))"
      ],
      "metadata": {
        "colab": {
          "base_uri": "https://localhost:8080/"
        },
        "id": "d72D3dnMBDA1",
        "outputId": "deab7d12-4c3c-49ef-d504-36ba32eafb16"
      },
      "execution_count": 21,
      "outputs": [
        {
          "output_type": "stream",
          "name": "stdout",
          "text": [
            "1/1 [==============================] - 0s 34ms/step\n",
            "На изображении  sunflowers (97.83% вероятность)\n"
          ]
        }
      ]
    },
    {
      "cell_type": "code",
      "source": [
        "dandelion_url: str = \"https://i.pinimg.com/736x/67/59/10/675910f9c54f462f99e77173e2c1b24a.jpg\"\n",
        "dandelion_path: str = tf.keras.utils.get_file('Yellow_dandelion', origin=dandelion_url)\n",
        "\n",
        "img: PIL.JpegImagePlugin.JpegImageFile = tf.keras.utils.load_img(\n",
        "    dandelion_path, target_size=(img_height, img_widht)\n",
        ")\n",
        "img_array: np.ndarray = tf.keras.utils.img_to_array(img)\n",
        "img_array = tf.expand_dims(img_array, 0)\n",
        "predictions: np.ndarray = model.predict(img_array)\n",
        "score: tf.Tensor = tf.nn.softmax(predictions[0])\n",
        "\n",
        "print('На изображении  {} ({:.2f}% вероятность)'.format(\n",
        "    class_names[np.argmax(score)],\n",
        "    100 * np.max(score)\n",
        "))"
      ],
      "metadata": {
        "colab": {
          "base_uri": "https://localhost:8080/"
        },
        "id": "wwrqHGa_DQPG",
        "outputId": "ad1cd8e9-5368-4d6a-a3b1-2536aea16535"
      },
      "execution_count": 22,
      "outputs": [
        {
          "output_type": "stream",
          "name": "stdout",
          "text": [
            "Downloading data from https://i.pinimg.com/736x/67/59/10/675910f9c54f462f99e77173e2c1b24a.jpg\n",
            "49379/49379 [==============================] - 0s 0us/step\n",
            "1/1 [==============================] - 0s 37ms/step\n",
            "На изображении  dandelion (97.51% вероятность)\n"
          ]
        }
      ]
    },
    {
      "cell_type": "markdown",
      "source": [
        "4) Сохранение модели локально"
      ],
      "metadata": {
        "id": "hKNbOk7H-wmk"
      }
    },
    {
      "cell_type": "code",
      "source": [
        "from google.colab import files\n",
        "\n",
        "model_file_name: str = \"my_flowers_model.h5\"\n",
        "model.save(model_file_name)\n",
        "files.download(model_file_name)"
      ],
      "metadata": {
        "colab": {
          "base_uri": "https://localhost:8080/",
          "height": 72
        },
        "id": "3r6klm69-3k-",
        "outputId": "8dce9982-87a7-4188-b9e9-03b1e2307ca0"
      },
      "execution_count": 23,
      "outputs": [
        {
          "output_type": "stream",
          "name": "stderr",
          "text": [
            "/usr/local/lib/python3.10/dist-packages/keras/src/engine/training.py:3000: UserWarning: You are saving your model as an HDF5 file via `model.save()`. This file format is considered legacy. We recommend using instead the native Keras format, e.g. `model.save('my_model.keras')`.\n",
            "  saving_api.save_model(\n"
          ]
        },
        {
          "output_type": "display_data",
          "data": {
            "text/plain": [
              "<IPython.core.display.Javascript object>"
            ],
            "application/javascript": [
              "\n",
              "    async function download(id, filename, size) {\n",
              "      if (!google.colab.kernel.accessAllowed) {\n",
              "        return;\n",
              "      }\n",
              "      const div = document.createElement('div');\n",
              "      const label = document.createElement('label');\n",
              "      label.textContent = `Downloading \"${filename}\": `;\n",
              "      div.appendChild(label);\n",
              "      const progress = document.createElement('progress');\n",
              "      progress.max = size;\n",
              "      div.appendChild(progress);\n",
              "      document.body.appendChild(div);\n",
              "\n",
              "      const buffers = [];\n",
              "      let downloaded = 0;\n",
              "\n",
              "      const channel = await google.colab.kernel.comms.open(id);\n",
              "      // Send a message to notify the kernel that we're ready.\n",
              "      channel.send({})\n",
              "\n",
              "      for await (const message of channel.messages) {\n",
              "        // Send a message to notify the kernel that we're ready.\n",
              "        channel.send({})\n",
              "        if (message.buffers) {\n",
              "          for (const buffer of message.buffers) {\n",
              "            buffers.push(buffer);\n",
              "            downloaded += buffer.byteLength;\n",
              "            progress.value = downloaded;\n",
              "          }\n",
              "        }\n",
              "      }\n",
              "      const blob = new Blob(buffers, {type: 'application/binary'});\n",
              "      const a = document.createElement('a');\n",
              "      a.href = window.URL.createObjectURL(blob);\n",
              "      a.download = filename;\n",
              "      div.appendChild(a);\n",
              "      a.click();\n",
              "      div.remove();\n",
              "    }\n",
              "  "
            ]
          },
          "metadata": {}
        },
        {
          "output_type": "display_data",
          "data": {
            "text/plain": [
              "<IPython.core.display.Javascript object>"
            ],
            "application/javascript": [
              "download(\"download_653fa880-e7f7-4607-b95a-413b71564ba3\", \"my_flowers_model.h5\", 199411104)"
            ]
          },
          "metadata": {}
        }
      ]
    }
  ]
}